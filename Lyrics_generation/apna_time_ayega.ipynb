{
 "cells": [
  {
   "cell_type": "markdown",
   "metadata": {},
   "source": [
    "# apna time ayega"
   ]
  },
  {
   "cell_type": "code",
   "execution_count": 9,
   "metadata": {},
   "outputs": [],
   "source": [
    "import numpy as np"
   ]
  },
  {
   "cell_type": "code",
   "execution_count": 10,
   "metadata": {},
   "outputs": [],
   "source": [
    "def generateTable(data,k=4):\n",
    "    T = {}\n",
    "    for i in range(len(data)-k):\n",
    "        X = data[i:i+k]\n",
    "        y = data[i+k]\n",
    "        if(T.get(X) is None):\n",
    "            T[X] = {}\n",
    "            T[X][y] = 1\n",
    "        else:\n",
    "            if(T[X].get(y) is None):\n",
    "                T[X][y] = 1\n",
    "            else:\n",
    "                T[X][y] += 1\n",
    "    return T"
   ]
  },
  {
   "cell_type": "code",
   "execution_count": 55,
   "metadata": {},
   "outputs": [],
   "source": [
    "def generateprob(transitions):\n",
    "    for T in transitions.keys():\n",
    "        s = float(sum(transitions[T].values()))\n",
    "        for t in transitions[T].keys():\n",
    "            transitions[T][t] = float(transitions[T][t]/s)\n",
    "    return transitions\n",
    "            "
   ]
  },
  {
   "cell_type": "code",
   "execution_count": 56,
   "metadata": {},
   "outputs": [],
   "source": [
    "def load_text(file_name):\n",
    "    with open(\"./../data_sets/text_generation/\"+file_name,encoding='utf8') as f:\n",
    "        text = f.read().lower()\n",
    "        return text"
   ]
  },
  {
   "cell_type": "code",
   "execution_count": 57,
   "metadata": {},
   "outputs": [],
   "source": [
    "def load_text(file_name):\n",
    "    with open(\"./../data_sets/text_generation/\"+file_name,encoding='utf8') as f:\n",
    "        text = f.read().lower()\n",
    "        return text"
   ]
  },
  {
   "cell_type": "code",
   "execution_count": 58,
   "metadata": {},
   "outputs": [],
   "source": [
    "def sample_next(context,T,k=4):\n",
    "    context = context[-k:]\n",
    "    if T.get(context) is None:\n",
    "        return \" \"\n",
    "    possible_chars = list(T[context].keys())\n",
    "    possible_probs = list(T[context].values())\n",
    "#     np.random.seed(15)\n",
    "    return np.random.choice(possible_chars,p=possible_probs)"
   ]
  },
  {
   "cell_type": "code",
   "execution_count": 59,
   "metadata": {},
   "outputs": [],
   "source": [
    "def predict(context,model,samples=100,k=4):\n",
    "    ctext = context[-k:]\n",
    "    for i in range(samples):\n",
    "        sample = sample_next(ctext,model,k)\n",
    "        context += sample\n",
    "        ctext = context[-k:]\n",
    "    return context"
   ]
  },
  {
   "cell_type": "code",
   "execution_count": 60,
   "metadata": {},
   "outputs": [],
   "source": [
    "def trainMarkovChain(text,k=4):\n",
    "    T = generateTable(text,k)\n",
    "    T = generateprob(T)\n",
    "    return T"
   ]
  },
  {
   "cell_type": "code",
   "execution_count": 62,
   "metadata": {},
   "outputs": [],
   "source": [
    "text = load_text(\"Apna_Time_Aayega.txt\")\n",
    "model = trainMarkovChain(text,k=4)\n",
    "lyrics = predict(\"apna\",model,samples=2000,k=4)"
   ]
  },
  {
   "cell_type": "code",
   "execution_count": 64,
   "metadata": {},
   "outputs": [],
   "source": [
    "with open(\"lyrics.txt\",'w',encoding='utf8') as f:\n",
    "    f.write(lyrics)"
   ]
  },
  {
   "cell_type": "code",
   "execution_count": null,
   "metadata": {},
   "outputs": [],
   "source": []
  }
 ],
 "metadata": {
  "kernelspec": {
   "display_name": "Python 3",
   "language": "python",
   "name": "python3"
  },
  "language_info": {
   "codemirror_mode": {
    "name": "ipython",
    "version": 3
   },
   "file_extension": ".py",
   "mimetype": "text/x-python",
   "name": "python",
   "nbconvert_exporter": "python",
   "pygments_lexer": "ipython3",
   "version": "3.8.3"
  }
 },
 "nbformat": 4,
 "nbformat_minor": 4
}
